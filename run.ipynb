{
 "cells": [
  {
   "cell_type": "code",
   "execution_count": null,
   "metadata": {},
   "outputs": [],
   "source": [
    "eval \"$(conda shell.bash hook)\"\n",
    "source activate base"
   ]
  },
  {
   "cell_type": "code",
   "execution_count": 15,
   "metadata": {},
   "outputs": [
    {
     "name": "stderr",
     "output_type": "stream",
     "text": [
      "'eval' is not recognized as an internal or external command,\n",
      "operable program or batch file.\n",
      "'source' is not recognized as an internal or external command,\n",
      "operable program or batch file.\n"
     ]
    }
   ],
   "source": [
    "!.\"/movement_pruning/train_prune_sst.sh\""
   ]
  },
  {
   "cell_type": "code",
   "execution_count": 11,
   "metadata": {},
   "outputs": [
    {
     "data": {
      "text/plain": [
       "array([[ -0.14612895,  -2.75324822,  -6.6073799 ,   6.86021012,\n",
       "         46.70698778],\n",
       "       [  9.16346209,  -4.84399665,  -1.42453416,  -8.08403871,\n",
       "         29.52267317],\n",
       "       [  9.26853113,  13.86202422,   8.90130656,   3.63904133,\n",
       "          5.88150138],\n",
       "       [  2.17315771,   2.22494565, -16.97233999,  12.04435951,\n",
       "         -1.82335598],\n",
       "       [  1.62490891,  15.19387419, -31.81763073,   6.6838597 ,\n",
       "          7.66007996]])"
      ]
     },
     "execution_count": 11,
     "metadata": {},
     "output_type": "execute_result"
    }
   ],
   "source": [
    "import numpy as np\n",
    "np.random.normal((1,2,3,4,5),(5,10,15,20,25),size=(5,5))"
   ]
  }
 ],
 "metadata": {
  "interpreter": {
   "hash": "a8f61be024eba58adef938c9aa1e29e02cb3dece83a5348b1a2dafd16a070453"
  },
  "kernelspec": {
   "display_name": "Python 3.8.8 ('base')",
   "language": "python",
   "name": "python3"
  },
  "language_info": {
   "codemirror_mode": {
    "name": "ipython",
    "version": 3
   },
   "file_extension": ".py",
   "mimetype": "text/x-python",
   "name": "python",
   "nbconvert_exporter": "python",
   "pygments_lexer": "ipython3",
   "version": "3.8.8"
  },
  "orig_nbformat": 4
 },
 "nbformat": 4,
 "nbformat_minor": 2
}
